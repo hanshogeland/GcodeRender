{
 "cells": [
  {
   "cell_type": "code",
   "execution_count": 1,
   "metadata": {},
   "outputs": [],
   "source": [
    "import numpy as np\n",
    "import cv2\n",
    "import os\n",
    "import uuid\n",
    "import math\n",
    "import serial\n",
    "import time\n",
    "import pyrealsense2 as rs\n",
    "import time\n",
    "from math import sin, cos, radians"
   ]
  },
  {
   "cell_type": "code",
   "execution_count": 42,
   "metadata": {},
   "outputs": [],
   "source": [
    "#Create a guids for the \n",
    "idmodel = str(uuid.uuid4())\n",
    "\n",
    "#Gcode path\n",
    "gcodepath = \"C:\\\\gcode\\\\bgroot.gcode\"\n",
    "#gcodepath = \"C:\\\\gcode\\\\tode2.gcode\"\n",
    "#gcodepath = \"C:\\\\gcode\\\\Rubber_Duck.gcode\"\n",
    "#gcodepath = \"C:\\\\gcode\\\\cooutbreak_1.gcode\"\n",
    "\n",
    "#Save directory\n",
    "imagesavedir = \"C:\\\\gcode\\\\\" + idmodel + \"\\\\\"\n",
    "os.mkdir(imagesavedir)\n",
    "\n",
    "#Printbed filename\n",
    "printbedimg = \"C:\\\\gcode\\\\topbed_2.jpg\""
   ]
  },
  {
   "cell_type": "code",
   "execution_count": 3,
   "metadata": {},
   "outputs": [],
   "source": [
    "#Get a list of coordinates\n",
    "def getcoordinates(gcode, multiply):\n",
    "    data = gcode.split()\n",
    "    #print(\"D\", data)\n",
    "    cmd = data[0]\n",
    "    z=0\n",
    "    if cmd == \"G0\" or cmd == \"G1\":\n",
    "        for d1 in data:\n",
    "            if d1[0:1].lower() == \"x\":\n",
    "                x = float(d1[1:]) * multiply\n",
    "            if d1[0:1].lower() == \"y\":\n",
    "                y = float(d1[1:]) * multiply\n",
    "            if d1[0:1].lower() == \"z\":\n",
    "                z = float(d1[1:]) * multiply\n",
    "        return x,y,z\n",
    "    else:\n",
    "        return 0,0,0"
   ]
  },
  {
   "cell_type": "code",
   "execution_count": 79,
   "metadata": {},
   "outputs": [],
   "source": [
    "#Appendimg\n",
    "def appendimg(xstart, ystart, xend, yend, img1, pixel, color, anglex, angley, rotation, imagesize):\n",
    "    b = 0\n",
    "    g = 0\n",
    "    r = 0\n",
    "    if color < 256:\n",
    "        b = color\n",
    "    if color > 255 and color < 511:\n",
    "        g = color - 255\n",
    "        b = 255\n",
    "    if color > 510:\n",
    "        r = color - 510\n",
    "        b = 255\n",
    "        g = 255\n",
    "    theta = radians(rotation)\n",
    "    cosang, sinang = cos(theta), sin(theta)\n",
    "    cx = imagesize / 2\n",
    "    cy = imagesize / 2\n",
    "    \n",
    "    x1 = xstart\n",
    "    x2 = xend\n",
    "    y1 = ystart\n",
    "    y2 = yend\n",
    "    \n",
    "    tx1, ty1 = x1-cx, y1-cy\n",
    "    p1x = ( tx1*cosang + ty1*sinang) + cx\n",
    "    p1y = (-tx1*sinang + ty1*cosang) + cy\n",
    "    tx2, ty2 = x2-cx, y2-cy\n",
    "    p2x = ( tx2*cosang + ty2*sinang) + cx\n",
    "    p2y = (-tx2*sinang + ty2*cosang) + cy\n",
    "        \n",
    "    #pts = np.array([[xstart+angle,ystart-angle],[xend+angle,yend-angle]], np.int32)\n",
    "    pts = np.array([[p1x+anglex,p1y-angley],[p2x+anglex,p2y-angley]], np.int32)\n",
    "\n",
    "    #print(\"Line \" + str(xend))\n",
    "    pts = pts.reshape((-1,1,2))\n",
    "    img1 = cv2.polylines(img1,[pts],True,(0,0,0), pixel)\n",
    "    #img1 = cv2.polylines(img1,[pts],True,(b,g,r), pixel) \n",
    "    ptslst = [p1x+anglex,p1y-angley,p2x+anglex,p2y-angley]\n",
    "    return img1, ptslst"
   ]
  },
  {
   "cell_type": "code",
   "execution_count": 5,
   "metadata": {},
   "outputs": [],
   "source": [
    "#Get Image - If use Realsense\n",
    "def GetImage(savepath):\n",
    "    t_end = time.time() + 10\n",
    "\n",
    "    # Configure depth and color streams\n",
    "    pipeline = rs.pipeline()\n",
    "    config = rs.config()\n",
    "    config.enable_stream(rs.stream.depth, 640, 480, rs.format.z16, 30)\n",
    "    config.enable_stream(rs.stream.color, 1920, 1080, rs.format.bgr8, 30)\n",
    "    \n",
    "    # Start streaming\n",
    "    profile = pipeline.start(config)\n",
    "    \n",
    "    try:\n",
    "        while time.time() < t_end:\n",
    "    \n",
    "            # Wait for a coherent pair of frames: depth and color\n",
    "            frames = pipeline.wait_for_frames()\n",
    "            depth_frame = frames.get_depth_frame()\n",
    "            color_frame = frames.get_color_frame()\n",
    "            if not depth_frame or not color_frame:\n",
    "                continue\n",
    "    \n",
    "            # Convert images to numpy arrays\n",
    "            depth_image = np.asanyarray(depth_frame.get_data())\n",
    "            color_image = np.asanyarray(color_frame.get_data())\n",
    "            filename = savepath + \"\\\\RealSenseImg_\" + str(1) + \".png\"\n",
    "            cv2.imwrite(filename, color_image)\n",
    "    finally:\n",
    "        # Stop streaming\n",
    "        pipeline.stop()\n",
    "        return filename, color_image"
   ]
  },
  {
   "cell_type": "code",
   "execution_count": 6,
   "metadata": {},
   "outputs": [],
   "source": [
    "#Get angles - connected a MPU-6050 to a Arduino - Add Arduino code for this one\n",
    "def getangles():\n",
    "    t_end = time.time() + 10\n",
    "    arduino = serial.Serial('COM4', 9600, timeout=.1)\n",
    "    test = \"dd\"\n",
    "    DegX = 0.0\n",
    "    DegY = 0.0\n",
    "    DegZ = 0.0\n",
    "    while time.time() < t_end:\n",
    "        data = arduino.readline()[:-2].decode(\"utf-8\") #the last bit gets rid of the new-line chars\n",
    "        if data:\n",
    "            print(data)\n",
    "            if \"AngleX\" in data:\n",
    "                data = data[8:]\n",
    "                DegX = data\n",
    "            if \"AngleY\" in data:\n",
    "                data = data[8:]\n",
    "                DegY = data\n",
    "            if \"AngleZ\" in data:\n",
    "                data = data[8:]\n",
    "                DegZ = data\n",
    "    arduino.close()\n",
    "    DegX = float(DegX)\n",
    "    DegY = float(DegY)\n",
    "    DegZ = float(DegZ)\n",
    "    DegX = int(DegX)\n",
    "    DegY = int(DegY)\n",
    "    DegZ = int(DegZ)\n",
    "    return DegX, DegY, DegZ"
   ]
  },
  {
   "cell_type": "code",
   "execution_count": 7,
   "metadata": {},
   "outputs": [],
   "source": [
    "#Parse gcode\n",
    "def parsegcode():\n",
    "    with open(gcodepath, \"r\") as f:\n",
    "        gcodes = [line.rstrip('\\n') for line in f]\n",
    "    nlayers = 0\n",
    "    for txtline in gcodes:\n",
    "        hasg0p = \"G0\" in txtline\n",
    "        haszp = \"Z\" in txtline\n",
    "        if haszp and hasg0p:\n",
    "            nlayers = nlayers + 1\n",
    "    print(\"Number of layers \" + str(nlayers))\n",
    "    nlayers = nlayers - 1\n",
    "    layerbatch = int(nlayers/10)\n",
    "    print(\"Layer batch: \" + str(layerbatch))\n",
    "    return nlayers, layerbatch, gcodes"
   ]
  },
  {
   "cell_type": "code",
   "execution_count": 8,
   "metadata": {},
   "outputs": [],
   "source": [
    "#Resize Img\n",
    "def imageresize(img, to, filename):\n",
    "    #Resize\n",
    "    width = int((to/img.shape[0])*img.shape[1])\n",
    "    print(width)\n",
    "    height = to\n",
    "    dim = (width, height)\n",
    "    # resize image\n",
    "    resized = cv2.resize(img, dim, interpolation = cv2.INTER_AREA)\n",
    "    \n",
    "    #Crop\n",
    "    diff = int((width - to) / 2)\n",
    "    print(diff)\n",
    "    cropped = resized[0:to, diff:int(width-diff)]\n",
    "    \n",
    "    cv2.imwrite(filename, cropped)\n",
    "    return cropped"
   ]
  },
  {
   "cell_type": "code",
   "execution_count": 71,
   "metadata": {},
   "outputs": [],
   "source": [
    "#Render out images for each layer of gcode\n",
    "def gcodelayerpoints(anglexdeg, angleydeg, rotation, imgfilename, nlayers, gcodes, multiply, imagesize, pixel, imagesavedir):\n",
    "    #img = np.zeros((imagesize,imagesize,3), np.uint8) #<-- if use blank img!.\n",
    "    #img.fill(255) #<-- if use blank img!.\n",
    "    img = cv2.imread(imgfilename) #Rem out if use blank\n",
    "    count = 0\n",
    "    xstart = 0\n",
    "    ystart = 0\n",
    "    xend = 0\n",
    "    yend = 0\n",
    "    xstarti = 0\n",
    "    ystarti = 0\n",
    "    xendi = 0\n",
    "    yendi = 0\n",
    "    layer = True\n",
    "    hasg0 = False\n",
    "    hasg1 = False\n",
    "    dim = (int(imagesize/multiply), int(imagesize/multiply))\n",
    "    color = 100\n",
    "    counter = nlayers\n",
    "    zvalue = 0\n",
    "    start = False\n",
    "    pts = np.array([[123,3443],[123,123]], np.int32)\n",
    "    ptslst = []\n",
    "    anglex = 0\n",
    "    angley = 0\n",
    "    #anglexdeg = 0\n",
    "    #angleydeg = 44.74\n",
    "    #rotation = 180\n",
    "    for txtline in gcodes:\n",
    "        hasg0 = \"G0\" in txtline\n",
    "        hasg1 = \"G1\"in txtline\n",
    "        hasx = \"X\" in txtline\n",
    "        hasy = \"Y\" in txtline\n",
    "        hase = \"E\" in txtline\n",
    "        hasz = \"Z\" in txtline\n",
    "        if layer:\n",
    "            #Outer lines\n",
    "            if hase and hasx and hasy and xstart == 0 and ystart == 0:\n",
    "                xstart, ystart, zvalue = getcoordinates(txtline, multiply)\n",
    "            if xstart != 0 and ystart != 0 and hasx and hasy:\n",
    "                xend, yend, zvalue = getcoordinates(txtline, multiply)\n",
    "            if xstart != 0 and ystart != 0 and xend != 0 and yend != 0:\n",
    "                img, pts1 = appendimg(xstart, ystart, xend, yend, img, pixel, color + 3, anglex, angley, rotation, imagesize)\n",
    "                ptslst.append(pts1)\n",
    "                if hase:\n",
    "                    xstart = xend\n",
    "                    ystart = yend\n",
    "                else:\n",
    "                    xstart = 0\n",
    "                    ystart = 0\n",
    "                xend = 0\n",
    "                yend = 0\n",
    "            #Inner lines\n",
    "            if hasg1 and hasx and hasy and hase:\n",
    "                xstarti, ystarti, zvalue = getcoordinates(txtline, multiply)\n",
    "            if hasg0 and hasx and hasy:\n",
    "                xendi, yendi, zvalue = getcoordinates(txtline, multiply)\n",
    "            if xstarti != 0 and ystarti != 0 and xendi != 0 and yendi != 0:\n",
    "                img, pts2 = appendimg(xstarti, ystarti, xendi, yendi, img, pixel, color + 5, anglex, angley, rotation, imagesize)\n",
    "                ptslst.append(pts2)\n",
    "                xstarti = 0\n",
    "                ystarti = 0\n",
    "                xendi = 0\n",
    "                yendi = 0\n",
    "        if hasz and hasg0:\n",
    "            if layer:\n",
    "                count = count + 1\n",
    "                filenamerall = imagesavedir + \"\\\\\" + \"gcodelyr_\" + str(count) + \".JPG\"\n",
    "                if(count == nlayers):\n",
    "                    resizedrall = cv2.resize(img, dim, interpolation = cv2.INTER_AREA)  \n",
    "                    cv2.imwrite(filenamerall, img)\n",
    "                    print(filenamerall)\n",
    "                counter = counter + 1\n",
    "                imglyr = np.zeros((imagesize,imagesize,3), np.uint8)\n",
    "                imglyr.fill(255)\n",
    "                color = color + 1\n",
    "                \n",
    "                 ## Calculate angle value\n",
    "                anglex = round(math.sin(math.radians(anglexdeg))*zvalue, 2)\n",
    "                #print(\"X\" + str(anglex))\n",
    "                angley = round(math.sin(math.radians(angleydeg))*zvalue, 2)\n",
    "                #print(\"Y\" + str(angley))\n",
    "            layer = True\n",
    "    return ptslst"
   ]
  },
  {
   "cell_type": "code",
   "execution_count": null,
   "metadata": {
    "scrolled": true
   },
   "outputs": [],
   "source": [
    "#If Use a Arduino + MPU\n",
    "DegX, DegY, DegZ = getangles()"
   ]
  },
  {
   "cell_type": "code",
   "execution_count": null,
   "metadata": {},
   "outputs": [],
   "source": [
    "print(DegX)"
   ]
  },
  {
   "cell_type": "code",
   "execution_count": null,
   "metadata": {},
   "outputs": [],
   "source": [
    "#If use a Realsense camers\n",
    "filename, image_1 = GetImage()\n",
    "print(filename)"
   ]
  },
  {
   "cell_type": "code",
   "execution_count": null,
   "metadata": {},
   "outputs": [],
   "source": [
    "#Resize image\n",
    "image = imageresize(image_1, 4300, filename)"
   ]
  },
  {
   "cell_type": "code",
   "execution_count": 10,
   "metadata": {
    "scrolled": true
   },
   "outputs": [
    {
     "name": "stdout",
     "output_type": "stream",
     "text": [
      "Number of layers 365\n",
      "Layer batch: 36\n"
     ]
    }
   ],
   "source": [
    "#Get layer information\n",
    "nlayers, layerbatch, gcodes = parsegcode()"
   ]
  },
  {
   "cell_type": "code",
   "execution_count": null,
   "metadata": {},
   "outputs": [],
   "source": [
    "#Degz = DegZ - 180\n",
    "#DegY = 360 - DegY\n",
    "#DegX = 360 - DegX\n",
    "DegZ = 360 - DegZ"
   ]
  },
  {
   "cell_type": "code",
   "execution_count": 96,
   "metadata": {},
   "outputs": [],
   "source": [
    "DegX = 7\n",
    "DegY = 18\n",
    "DegZ = 0"
   ]
  },
  {
   "cell_type": "code",
   "execution_count": 97,
   "metadata": {},
   "outputs": [
    {
     "name": "stdout",
     "output_type": "stream",
     "text": [
      "C:\\gcode\\5b887088-e057-4932-bdc6-f5717e1dde8f\\\\gcodelyr_364.JPG\n"
     ]
    }
   ],
   "source": [
    "#DegZ = DegZ+270\n",
    "multiply = 6\n",
    "imagesize = 3024\n",
    "pixel = 1\n",
    "ptslst = gcodelayerpoints(DegX, DegY, DegZ, printbedimg, nlayers, gcodes, multiply, imagesize, pixel, imagesavedir)"
   ]
  },
  {
   "cell_type": "code",
   "execution_count": null,
   "metadata": {},
   "outputs": [],
   "source": []
  }
 ],
 "metadata": {
  "kernelspec": {
   "display_name": "Python 3",
   "language": "python",
   "name": "python3"
  },
  "language_info": {
   "codemirror_mode": {
    "name": "ipython",
    "version": 3
   },
   "file_extension": ".py",
   "mimetype": "text/x-python",
   "name": "python",
   "nbconvert_exporter": "python",
   "pygments_lexer": "ipython3",
   "version": "3.7.3"
  }
 },
 "nbformat": 4,
 "nbformat_minor": 2
}
